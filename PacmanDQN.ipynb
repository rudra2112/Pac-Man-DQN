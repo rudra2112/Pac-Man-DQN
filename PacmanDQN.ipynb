{
 "cells": [
  {
   "cell_type": "code",
   "execution_count": 1,
   "metadata": {},
   "outputs": [],
   "source": [
    "import gym\n",
    "env = gym.make('MsPacman-v0')"
   ]
  },
  {
   "cell_type": "code",
   "execution_count": 2,
   "metadata": {},
   "outputs": [],
   "source": [
    "import random\n",
    "import numpy as np\n",
    "from collections import deque\n",
    "from tensorflow.keras.models import Sequential\n",
    "from tensorflow.keras.layers import Dense, Activation, Flatten, Conv2D, MaxPooling2D\n",
    "from tensorflow.keras.optimizers import Adam"
   ]
  },
  {
   "cell_type": "code",
   "execution_count": 3,
   "metadata": {},
   "outputs": [],
   "source": [
    "state_size = (88, 80, 1)"
   ]
  },
  {
   "cell_type": "code",
   "execution_count": 4,
   "metadata": {},
   "outputs": [],
   "source": [
    "action_size = env.action_space.n"
   ]
  },
  {
   "cell_type": "code",
   "execution_count": 5,
   "metadata": {},
   "outputs": [],
   "source": [
    "color = np.array([210, 164, 74]).mean()"
   ]
  },
  {
   "cell_type": "code",
   "execution_count": 6,
   "metadata": {},
   "outputs": [],
   "source": [
    "def preprocess_state(state):\n",
    "    image = state[1:176:2, ::2]\n",
    "    image = image.mean(axis=2)\n",
    "    image[image==color] = 0\n",
    "    image = (image - 128) / 128 - 1\n",
    "    image = np.expand_dims(image.reshape(88,80,1), axis=0)\n",
    "    return image"
   ]
  },
  {
   "cell_type": "code",
   "execution_count": 7,
   "metadata": {},
   "outputs": [],
   "source": [
    "class DQN:\n",
    "    def __init__(self, state_size, action_size):\n",
    "        self.state_size = state_size\n",
    "        self.action_size = action_size\n",
    "        self.replay_buffer = deque(maxlen=5000)\n",
    "        self.gamma = 0.9\n",
    "        self.epsilon = 0.8\n",
    "        self.update_rate = 1000\n",
    "        self.main_network = self.build_model()\n",
    "        self.target_network = self.build_model()\n",
    "        self.target_network.set_weights(self.main_network.get_weights())\n",
    "\n",
    "    def build_model(self):\n",
    "        model = Sequential()\n",
    "        model.add(Conv2D(32, (8, 8), strides=4, padding='same', input_shape=self.state_size))\n",
    "        model.add(Activation('relu'))\n",
    "        model.add(Conv2D(64, (4, 4), strides=2, padding='same'))\n",
    "        model.add(Activation('relu'))\n",
    "        model.add(Conv2D(64, (3, 3), strides=1, padding='same'))\n",
    "        model.add(Activation('relu'))\n",
    "        model.add(Flatten())\n",
    "        model.add(Dense(512, activation = 'relu'))\n",
    "        model.add(Dense(self.action_size, activation = 'linear'))\n",
    "        model.compile(loss='mse', optimizer=Adam())\n",
    "        return model\n",
    "\n",
    "    def store_transistion(self, state, action, reward, next_state, done):\n",
    "        self.replay_buffer.append((state, action, reward, next_state, done))\n",
    "\n",
    "    def epsilon_greedy(self, state):\n",
    "        if random.uniform(0,1) <= self.epsilon:\n",
    "            return np.random.randint(self.action_size)\n",
    "        Q_values = self.main_network.predict(state)\n",
    "        return np.argmax(Q_values[0])\n",
    "\n",
    "    def train(self, batch_size):\n",
    "        minibatch = random.sample(self.replay_buffer, batch_size)\n",
    "        for state, action, reward, next_state, done in minibatch:\n",
    "            if not done:\n",
    "                target_Q = reward + self.gamma * np.amax(self.target_network.predict(next_state)[0])\n",
    "            else:\n",
    "                target_Q = reward\n",
    "\n",
    "            Q_values = self.main_network.predict(state)\n",
    "            Q_values[0][action] = target_Q\n",
    "            self.main_network.fit(state, Q_values, epochs=1, verbose=0)\n",
    "\n",
    "    def update_target_network(self):\n",
    "        self.target_network.set_weights(self.main_network.get_weights())\n",
    "        "
   ]
  },
  {
   "cell_type": "code",
   "execution_count": null,
   "metadata": {},
   "outputs": [],
   "source": [
    "# DQN\n",
    "num_episodes = 500\n",
    "num_time_steps = 2000\n",
    "batch_size = 8\n",
    "num_screens = 4\n",
    "dqn = DQN(state_size, action_size)\n",
    "done = False\n",
    "time_step = 0\n",
    "for episode in range(num_episodes):\n",
    "    Return = 0\n",
    "    state = preprocess_state(env.reset())\n",
    "    for t in range(num_time_steps):\n",
    "        env.render()\n",
    "        time_step += 1\n",
    "        if time_step % dqn.update_rate == 0:\n",
    "            dqn.update_target_network()\n",
    "        action = dqn.epsilon_greedy(state)\n",
    "        next_state, reward, done, _ = env.step(action)\n",
    "        next_state = preprocess_state(next_state)\n",
    "        dqn.store_transistion(state, action, reward, next_state, done)\n",
    "        state = next_state\n",
    "        Return += reward\n",
    "        if done:\n",
    "            print(\"Episode {} finished after {} timesteps with return {}\".format(episode, t+1, Return))\n",
    "            break\n",
    "        if len(dqn.replay_buffer) > batch_size:\n",
    "            dqn.train(batch_size)"
   ]
  },
  {
   "cell_type": "code",
   "execution_count": null,
   "metadata": {},
   "outputs": [],
   "source": []
  }
 ],
 "metadata": {
  "kernelspec": {
   "display_name": "Reinforcement_Learning",
   "language": "python",
   "name": "python3"
  },
  "language_info": {
   "codemirror_mode": {
    "name": "ipython",
    "version": 3
   },
   "file_extension": ".py",
   "mimetype": "text/x-python",
   "name": "python",
   "nbconvert_exporter": "python",
   "pygments_lexer": "ipython3",
   "version": "3.7.15"
  },
  "orig_nbformat": 4,
  "vscode": {
   "interpreter": {
    "hash": "8d9afed10e14615d8b999dd99cb7fb11186cc4dcfcde1b40cb5785c433d361e4"
   }
  }
 },
 "nbformat": 4,
 "nbformat_minor": 2
}
